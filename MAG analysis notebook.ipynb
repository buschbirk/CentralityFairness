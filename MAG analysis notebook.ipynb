{
 "cells": [
  {
   "cell_type": "markdown",
   "metadata": {},
   "source": [
    "# MAG analysis notebook"
   ]
  },
  {
   "cell_type": "code",
   "execution_count": 1,
   "metadata": {},
   "outputs": [],
   "source": [
    "from pyspark.sql import SparkSession\n",
    "from pyspark.sql.types import *\n",
    "from MAG import MicrosoftAcademicGraph\n",
    "import os\n",
    "from sparkhpc import sparkjob\n",
    "import findspark\n",
    "\n",
    "# set environment variables\n",
    "os.environ[\"SPARK_LOCAL_DIRS\"] = \"/home/laal/MAG/TMP\"\n",
    "os.environ[\"JAVA_HOME\"] = \"/usr/lib/jvm/java-1.8.0-openjdk-1.8.0.242.b08-0.el7_7.x86_64\"\n",
    "os.environ['SPARK_HOME'] = \"/home/laal/MAG/spark-3.0.2-bin-hadoop2.7\""
   ]
  },
  {
   "cell_type": "code",
   "execution_count": 2,
   "metadata": {},
   "outputs": [],
   "source": [
    "sj = sparkjob.sparkjob(jobid=36492, memory_per_executor=15500)"
   ]
  },
  {
   "cell_type": "code",
   "execution_count": 3,
   "metadata": {},
   "outputs": [
    {
     "name": "stdout",
     "output_type": "stream",
     "text": [
      "['NAME STATE JOBID', 'hebbian_weights_submit PENDING 36481', 'roberta_base RUNNING 36230', 'simple RUNNING 35764', 'sparkcluster RUNNING 36492', 'hebbian_weights_submit RUNNING 36236', 'hebbian_weights_submit RUNNING 36235', 'jupyter RUNNING 36477', 'bikenwgrowth RUNNING 36387_46', 'bikenwgrowth RUNNING 36387_47', 'bikenwgrowth RUNNING 36387_48', 'bikenwgrowth RUNNING 36387_49', 'bikenwgrowth RUNNING 36387_50', 'bikenwgrowth RUNNING 36387_51', 'bikenwgrowth RUNNING 36387_52', 'bikenwgrowth RUNNING 36387_53', 'bikenwgrowth RUNNING 36387_54', 'bikenwgrowth RUNNING 36387_55', 'bikenwgrowth RUNNING 36387_57', 'bikenwgrowth RUNNING 36387_58', 'bikenwgrowth RUNNING 36387_23', 'bikenwgrowth RUNNING 36387_24', 'bikenwgrowth RUNNING 36387_25', 'bikenwgrowth RUNNING 36387_26', 'bikenwgrowth RUNNING 36387_28', 'bikenwgrowth RUNNING 36387_29', 'bikenwgrowth RUNNING 36387_30', 'bikenwgrowth RUNNING 36387_31', 'bikenwgrowth RUNNING 36387_32', 'bikenwgrowth RUNNING 36387_33', 'bikenwgrowth RUNNING 36387_36', 'bikenwgrowth RUNNING 36387_37', 'bikenwgrowth RUNNING 36387_38', 'bikenwgrowth RUNNING 36387_39', 'bikenwgrowth RUNNING 36387_40', 'bikenwgrowth RUNNING 36387_42', 'bikenwgrowth RUNNING 36387_43', 'bikenwgrowth RUNNING 36387_44', 'bikenwgrowth RUNNING 36387_45', 'agg RUNNING 35571', 'agg RUNNING 35570', 'agg RUNNING 35569', 'agg RUNNING 35568', 'pen RUNNING 35567', 'pen RUNNING 35566', 'pen RUNNING 35565', 'pen RUNNING 35564', 'pen RUNNING 35563', 'agg RUNNING 35562', '']\n"
     ]
    }
   ],
   "source": [
    "job = sj.start_spark()"
   ]
  },
  {
   "cell_type": "code",
   "execution_count": 4,
   "metadata": {},
   "outputs": [],
   "source": [
    "spark = SparkSession.builder.config(conf=job.getConf()).getOrCreate()"
   ]
  },
  {
   "cell_type": "code",
   "execution_count": 5,
   "metadata": {},
   "outputs": [],
   "source": [
    "mag = MicrosoftAcademicGraph(spark=spark, data_folderpath=\"/home/laal/MAG/DATA/\")"
   ]
  },
  {
   "cell_type": "code",
   "execution_count": 6,
   "metadata": {},
   "outputs": [],
   "source": [
    "def author_to_field_of_study(mag):\n",
    "    author_affiliations = mag.getDataframe('PaperAuthorAffiliations')\n",
    "    authors = mag.getDataframe('WosToMag')\n",
    "    paper_root_field = mag.getDataframe('PaperRootField')\n",
    "\n",
    "    query = \"\"\"\n",
    "    SELECT paa.AuthorId, \n",
    "           prf.AncestorId,\n",
    "           COUNT(*) AS NumPapersInField\n",
    "    FROM PaperAuthorAffiliations AS paa\n",
    "    INNER JOIN WosToMag AS wtm ON paa.AuthorId = wtm.MAG \n",
    "    INNER JOIN PaperRootField AS prf ON paa.PaperId = prf.PaperId\n",
    "    WHERE prf.fieldRank = 1\n",
    "    GROUP BY paa.AuthorId, \n",
    "             prf.AncestorId\n",
    "    ORDER BY COUNT(*) DESC\n",
    "    LIMIT 1000\n",
    "    \"\"\"\n",
    "    author_to_field = mag.query_sql(query)\n",
    "    return author_to_field"
   ]
  },
  {
   "cell_type": "code",
   "execution_count": 7,
   "metadata": {},
   "outputs": [],
   "source": [
    "author_to_field = author_to_field_of_study(mag)"
   ]
  },
  {
   "cell_type": "code",
   "execution_count": 8,
   "metadata": {},
   "outputs": [
    {
     "name": "stdout",
     "output_type": "stream",
     "text": [
      "['NAME STATE JOBID', 'hebbian_weights_submit PENDING 36481', 'roberta_base RUNNING 36230', 'simple RUNNING 35764', 'sparkcluster RUNNING 36492', 'hebbian_weights_submit RUNNING 36236', 'hebbian_weights_submit RUNNING 36235', 'jupyter RUNNING 36477', 'bikenwgrowth RUNNING 36387_46', 'bikenwgrowth RUNNING 36387_47', 'bikenwgrowth RUNNING 36387_48', 'bikenwgrowth RUNNING 36387_49', 'bikenwgrowth RUNNING 36387_50', 'bikenwgrowth RUNNING 36387_51', 'bikenwgrowth RUNNING 36387_52', 'bikenwgrowth RUNNING 36387_53', 'bikenwgrowth RUNNING 36387_54', 'bikenwgrowth RUNNING 36387_55', 'bikenwgrowth RUNNING 36387_57', 'bikenwgrowth RUNNING 36387_58', 'bikenwgrowth RUNNING 36387_23', 'bikenwgrowth RUNNING 36387_24', 'bikenwgrowth RUNNING 36387_25', 'bikenwgrowth RUNNING 36387_26', 'bikenwgrowth RUNNING 36387_28', 'bikenwgrowth RUNNING 36387_29', 'bikenwgrowth RUNNING 36387_30', 'bikenwgrowth RUNNING 36387_31', 'bikenwgrowth RUNNING 36387_32', 'bikenwgrowth RUNNING 36387_33', 'bikenwgrowth RUNNING 36387_36', 'bikenwgrowth RUNNING 36387_37', 'bikenwgrowth RUNNING 36387_38', 'bikenwgrowth RUNNING 36387_39', 'bikenwgrowth RUNNING 36387_40', 'bikenwgrowth RUNNING 36387_42', 'bikenwgrowth RUNNING 36387_43', 'bikenwgrowth RUNNING 36387_44', 'bikenwgrowth RUNNING 36387_45', 'agg RUNNING 35571', 'agg RUNNING 35570', 'agg RUNNING 35569', 'agg RUNNING 35568', 'pen RUNNING 35567', 'pen RUNNING 35566', 'pen RUNNING 35565', 'pen RUNNING 35564', 'pen RUNNING 35563', 'agg RUNNING 35562', '']\n",
      "['NAME STATE JOBID', 'hebbian_weights_submit PENDING 36481', 'roberta_base RUNNING 36230', 'simple RUNNING 35764', 'sparkcluster RUNNING 36492', 'hebbian_weights_submit RUNNING 36236', 'hebbian_weights_submit RUNNING 36235', 'jupyter RUNNING 36477', 'bikenwgrowth RUNNING 36387_46', 'bikenwgrowth RUNNING 36387_47', 'bikenwgrowth RUNNING 36387_48', 'bikenwgrowth RUNNING 36387_49', 'bikenwgrowth RUNNING 36387_50', 'bikenwgrowth RUNNING 36387_51', 'bikenwgrowth RUNNING 36387_52', 'bikenwgrowth RUNNING 36387_53', 'bikenwgrowth RUNNING 36387_54', 'bikenwgrowth RUNNING 36387_55', 'bikenwgrowth RUNNING 36387_57', 'bikenwgrowth RUNNING 36387_58', 'bikenwgrowth RUNNING 36387_23', 'bikenwgrowth RUNNING 36387_24', 'bikenwgrowth RUNNING 36387_25', 'bikenwgrowth RUNNING 36387_26', 'bikenwgrowth RUNNING 36387_28', 'bikenwgrowth RUNNING 36387_29', 'bikenwgrowth RUNNING 36387_30', 'bikenwgrowth RUNNING 36387_31', 'bikenwgrowth RUNNING 36387_32', 'bikenwgrowth RUNNING 36387_33', 'bikenwgrowth RUNNING 36387_36', 'bikenwgrowth RUNNING 36387_37', 'bikenwgrowth RUNNING 36387_38', 'bikenwgrowth RUNNING 36387_39', 'bikenwgrowth RUNNING 36387_40', 'bikenwgrowth RUNNING 36387_42', 'bikenwgrowth RUNNING 36387_43', 'bikenwgrowth RUNNING 36387_44', 'bikenwgrowth RUNNING 36387_45', 'agg RUNNING 35571', 'agg RUNNING 35570', 'agg RUNNING 35569', 'agg RUNNING 35568', 'pen RUNNING 35567', 'pen RUNNING 35566', 'pen RUNNING 35565', 'pen RUNNING 35564', 'pen RUNNING 35563', 'agg RUNNING 35562', '']\n"
     ]
    },
    {
     "data": {
      "text/html": [
       "<tr>\n",
       "                    <th>Job ID</th>\n",
       "                    <th>Number of cores</th>\n",
       "                    <th>Status</th>\n",
       "                    <th>Spark UI</th>\n",
       "                    <th>Spark URL</th>\n",
       "                    </tr>\n",
       "                    <td>36492</td>\n",
       "                    <td>4</td>\n",
       "                    <td>None</td>\n",
       "                    <td><a target=\"_blank\" href=\"http://desktop1.hpc.itu.dk:8080\">http://desktop1.hpc.itu.dk:8080</a></td>\n",
       "                    <td>spark://172.16.16.101:7077</td>\n",
       "                  "
      ],
      "text/plain": [
       "<sparkhpc.slurmsparkjob.SLURMSparkJob at 0x7ff0b0f7f150>"
      ]
     },
     "execution_count": 8,
     "metadata": {},
     "output_type": "execute_result"
    }
   ],
   "source": [
    "sj"
   ]
  },
  {
   "cell_type": "code",
   "execution_count": 9,
   "metadata": {},
   "outputs": [
    {
     "data": {
      "text/html": [
       "\n",
       "        <div>\n",
       "            <p><b>SparkContext</b></p>\n",
       "\n",
       "            <p><a href=\"http://desktop4.hpc.itu.dk:4040\">Spark UI</a></p>\n",
       "\n",
       "            <dl>\n",
       "              <dt>Version</dt>\n",
       "                <dd><code>v3.0.2</code></dd>\n",
       "              <dt>Master</dt>\n",
       "                <dd><code>spark://172.16.16.101:7077</code></dd>\n",
       "              <dt>AppName</dt>\n",
       "                <dd><code>pyspark-shell</code></dd>\n",
       "            </dl>\n",
       "        </div>\n",
       "        "
      ],
      "text/plain": [
       "<SparkContext master=spark://172.16.16.101:7077 appName=pyspark-shell>"
      ]
     },
     "execution_count": 9,
     "metadata": {},
     "output_type": "execute_result"
    }
   ],
   "source": [
    "job"
   ]
  },
  {
   "cell_type": "code",
   "execution_count": 10,
   "metadata": {},
   "outputs": [
    {
     "data": {
      "text/html": [
       "\n",
       "            <div>\n",
       "                <p><b>SparkSession - in-memory</b></p>\n",
       "                \n",
       "        <div>\n",
       "            <p><b>SparkContext</b></p>\n",
       "\n",
       "            <p><a href=\"http://desktop4.hpc.itu.dk:4040\">Spark UI</a></p>\n",
       "\n",
       "            <dl>\n",
       "              <dt>Version</dt>\n",
       "                <dd><code>v3.0.2</code></dd>\n",
       "              <dt>Master</dt>\n",
       "                <dd><code>spark://172.16.16.101:7077</code></dd>\n",
       "              <dt>AppName</dt>\n",
       "                <dd><code>pyspark-shell</code></dd>\n",
       "            </dl>\n",
       "        </div>\n",
       "        \n",
       "            </div>\n",
       "        "
      ],
      "text/plain": [
       "<pyspark.sql.session.SparkSession at 0x7ff08ecd8850>"
      ]
     },
     "execution_count": 10,
     "metadata": {},
     "output_type": "execute_result"
    }
   ],
   "source": [
    "spark"
   ]
  },
  {
   "cell_type": "code",
   "execution_count": 11,
   "metadata": {},
   "outputs": [
    {
     "name": "stdout",
     "output_type": "stream",
     "text": [
      "+----------+----------+----------------+\n",
      "|  AuthorId|AncestorId|NumPapersInField|\n",
      "+----------+----------+----------------+\n",
      "|2310082373| 121332964|            4585|\n",
      "|2205515583| 121332964|            4448|\n",
      "|2061787601| 121332964|            4369|\n",
      "|2759530663| 121332964|            4312|\n",
      "| 426350050| 121332964|            4144|\n",
      "|2058546385| 121332964|            4084|\n",
      "|1796911943| 121332964|            4034|\n",
      "|2107027955| 121332964|            4029|\n",
      "|1997479564| 121332964|            4010|\n",
      "|2145238930| 121332964|            3969|\n",
      "|2567620095| 121332964|            3945|\n",
      "|2063723168| 121332964|            3940|\n",
      "|2077334193| 121332964|            3878|\n",
      "|2119358905| 121332964|            3845|\n",
      "|2626143265| 121332964|            3822|\n",
      "|2055011421| 121332964|            3822|\n",
      "|2315388596| 121332964|            3816|\n",
      "|2098153449| 121332964|            3808|\n",
      "|2094520724| 121332964|            3801|\n",
      "|2153029437| 121332964|            3790|\n",
      "+----------+----------+----------------+\n",
      "only showing top 20 rows\n",
      "\n"
     ]
    }
   ],
   "source": [
    "author_to_field.show(20)"
   ]
  }
 ],
 "metadata": {
  "kernelspec": {
   "display_name": "Python 3",
   "language": "python",
   "name": "python3"
  },
  "language_info": {
   "codemirror_mode": {
    "name": "ipython",
    "version": 3
   },
   "file_extension": ".py",
   "mimetype": "text/x-python",
   "name": "python",
   "nbconvert_exporter": "python",
   "pygments_lexer": "ipython3",
   "version": "3.7.9"
  }
 },
 "nbformat": 4,
 "nbformat_minor": 4
}
