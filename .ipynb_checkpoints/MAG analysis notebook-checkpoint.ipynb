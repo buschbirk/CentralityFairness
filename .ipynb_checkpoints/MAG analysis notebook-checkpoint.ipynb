{
 "cells": [
  {
   "cell_type": "markdown",
   "metadata": {},
   "source": [
    "# MAG analysis notebook"
   ]
  },
  {
   "cell_type": "code",
   "execution_count": 1,
   "metadata": {},
   "outputs": [],
   "source": [
    "from pyspark.sql import SparkSession\n",
    "from pyspark.sql.types import *\n",
    "from MAG import MicrosoftAcademicGraph\n",
    "import os\n",
    "from sparkhpc import sparkjob\n",
    "import findspark\n",
    "\n",
    "# set environment variables\n",
    "os.environ[\"SPARK_LOCAL_DIRS\"] = \"/home/laal/MAG/TMP\"\n",
    "os.environ[\"JAVA_HOME\"] = \"/usr/lib/jvm/java-1.8.0-openjdk-1.8.0.242.b08-0.el7_7.x86_64\"\n",
    "os.environ['SPARK_HOME'] = \"/home/laal/MAG/spark-3.0.2-bin-hadoop2.7\""
   ]
  },
  {
   "cell_type": "code",
   "execution_count": 2,
   "metadata": {},
   "outputs": [],
   "source": [
    "sj = sparkjob.sparkjob(jobid=36483, memory_per_executor=5500)"
   ]
  },
  {
   "cell_type": "code",
   "execution_count": 3,
   "metadata": {},
   "outputs": [
    {
     "name": "stdout",
     "output_type": "stream",
     "text": [
      "['NAME STATE JOBID', 'hebbian_weights_submit PENDING 36481', 'roberta_base RUNNING 36230', 'simple RUNNING 35764', 'sparkcluster RUNNING 36483', 'hebbian_weights_submit RUNNING 36236', 'hebbian_weights_submit RUNNING 36235', 'jupyter RUNNING 36477', 'bikenwgrowth RUNNING 36387_46', 'bikenwgrowth RUNNING 36387_47', 'bikenwgrowth RUNNING 36387_48', 'bikenwgrowth RUNNING 36387_49', 'bikenwgrowth RUNNING 36387_50', 'bikenwgrowth RUNNING 36387_51', 'bikenwgrowth RUNNING 36387_52', 'bikenwgrowth RUNNING 36387_53', 'bikenwgrowth RUNNING 36387_54', 'bikenwgrowth RUNNING 36387_55', 'bikenwgrowth RUNNING 36387_57', 'bikenwgrowth RUNNING 36387_58', 'bikenwgrowth RUNNING 36387_18', 'bikenwgrowth RUNNING 36387_19', 'bikenwgrowth RUNNING 36387_22', 'bikenwgrowth RUNNING 36387_23', 'bikenwgrowth RUNNING 36387_24', 'bikenwgrowth RUNNING 36387_25', 'bikenwgrowth RUNNING 36387_26', 'bikenwgrowth RUNNING 36387_28', 'bikenwgrowth RUNNING 36387_29', 'bikenwgrowth RUNNING 36387_30', 'bikenwgrowth RUNNING 36387_31', 'bikenwgrowth RUNNING 36387_32', 'bikenwgrowth RUNNING 36387_33', 'bikenwgrowth RUNNING 36387_36', 'bikenwgrowth RUNNING 36387_37', 'bikenwgrowth RUNNING 36387_38', 'bikenwgrowth RUNNING 36387_39', 'bikenwgrowth RUNNING 36387_40', 'bikenwgrowth RUNNING 36387_41', 'bikenwgrowth RUNNING 36387_42', 'bikenwgrowth RUNNING 36387_43', 'bikenwgrowth RUNNING 36387_44', 'bikenwgrowth RUNNING 36387_45', 'agg RUNNING 35571', 'agg RUNNING 35570', 'agg RUNNING 35569', 'agg RUNNING 35568', 'pen RUNNING 35567', 'pen RUNNING 35566', 'pen RUNNING 35565', 'pen RUNNING 35564', 'pen RUNNING 35563', 'agg RUNNING 35562', '']\n"
     ]
    }
   ],
   "source": [
    "job = sj.start_spark()"
   ]
  },
  {
   "cell_type": "code",
   "execution_count": 4,
   "metadata": {},
   "outputs": [],
   "source": [
    "spark = SparkSession.builder.config(conf=job.getConf()).getOrCreate()"
   ]
  },
  {
   "cell_type": "code",
   "execution_count": 5,
   "metadata": {},
   "outputs": [],
   "source": [
    "mag = MicrosoftAcademicGraph(spark=spark, data_folderpath=\"/home/laal/MAG/DATA/\")"
   ]
  },
  {
   "cell_type": "code",
   "execution_count": 6,
   "metadata": {},
   "outputs": [],
   "source": [
    "def author_to_field_of_study(mag):\n",
    "    author_affiliations = mag.getDataframe('PaperAuthorAffiliations')\n",
    "    authors = mag.getDataframe('WosToMag')\n",
    "    paper_root_field = mag.getDataframe('PaperRootField')\n",
    "\n",
    "    query = \"\"\"\n",
    "    SELECT paa.AuthorId, \n",
    "           prf.AncestorId,\n",
    "           COUNT(*) AS NumPapersInField\n",
    "    FROM PaperAuthorAffiliations AS paa\n",
    "    INNER JOIN WosToMag AS wtm ON paa.AuthorId = wtm.MAG \n",
    "    INNER JOIN PaperRootField AS prf ON paa.PaperId = prf.PaperId\n",
    "    WHERE prf.fieldRank = 1\n",
    "    GROUP BY paa.AuthorId, \n",
    "             prf.AncestorId\n",
    "    ORDER BY COUNT(*) DESC\n",
    "    LIMIT 1000\n",
    "    \"\"\"\n",
    "    author_to_field = mag.query_sql(query)\n",
    "    return author_to_field"
   ]
  },
  {
   "cell_type": "code",
   "execution_count": 7,
   "metadata": {},
   "outputs": [],
   "source": [
    "author_to_field = author_to_field_of_study(mag)"
   ]
  },
  {
   "cell_type": "code",
   "execution_count": 8,
   "metadata": {},
   "outputs": [
    {
     "name": "stdout",
     "output_type": "stream",
     "text": [
      "['NAME STATE JOBID', 'hebbian_weights_submit PENDING 36481', 'roberta_base RUNNING 36230', 'simple RUNNING 35764', 'sparkcluster RUNNING 36483', 'hebbian_weights_submit RUNNING 36236', 'hebbian_weights_submit RUNNING 36235', 'jupyter RUNNING 36477', 'bikenwgrowth RUNNING 36387_46', 'bikenwgrowth RUNNING 36387_47', 'bikenwgrowth RUNNING 36387_48', 'bikenwgrowth RUNNING 36387_49', 'bikenwgrowth RUNNING 36387_50', 'bikenwgrowth RUNNING 36387_51', 'bikenwgrowth RUNNING 36387_52', 'bikenwgrowth RUNNING 36387_53', 'bikenwgrowth RUNNING 36387_54', 'bikenwgrowth RUNNING 36387_55', 'bikenwgrowth RUNNING 36387_57', 'bikenwgrowth RUNNING 36387_58', 'bikenwgrowth RUNNING 36387_17', 'bikenwgrowth RUNNING 36387_18', 'bikenwgrowth RUNNING 36387_19', 'bikenwgrowth RUNNING 36387_22', 'bikenwgrowth RUNNING 36387_23', 'bikenwgrowth RUNNING 36387_24', 'bikenwgrowth RUNNING 36387_25', 'bikenwgrowth RUNNING 36387_26', 'bikenwgrowth RUNNING 36387_27', 'bikenwgrowth RUNNING 36387_28', 'bikenwgrowth RUNNING 36387_29', 'bikenwgrowth RUNNING 36387_30', 'bikenwgrowth RUNNING 36387_31', 'bikenwgrowth RUNNING 36387_32', 'bikenwgrowth RUNNING 36387_33', 'bikenwgrowth RUNNING 36387_36', 'bikenwgrowth RUNNING 36387_37', 'bikenwgrowth RUNNING 36387_38', 'bikenwgrowth RUNNING 36387_39', 'bikenwgrowth RUNNING 36387_40', 'bikenwgrowth RUNNING 36387_41', 'bikenwgrowth RUNNING 36387_42', 'bikenwgrowth RUNNING 36387_43', 'bikenwgrowth RUNNING 36387_44', 'bikenwgrowth RUNNING 36387_45', 'agg RUNNING 35571', 'agg RUNNING 35570', 'agg RUNNING 35569', 'agg RUNNING 35568', 'pen RUNNING 35567', 'pen RUNNING 35566', 'pen RUNNING 35565', 'pen RUNNING 35564', 'pen RUNNING 35563', 'agg RUNNING 35562', '']\n",
      "['NAME STATE JOBID', 'hebbian_weights_submit PENDING 36481', 'roberta_base RUNNING 36230', 'simple RUNNING 35764', 'sparkcluster RUNNING 36483', 'hebbian_weights_submit RUNNING 36236', 'hebbian_weights_submit RUNNING 36235', 'jupyter RUNNING 36477', 'bikenwgrowth RUNNING 36387_46', 'bikenwgrowth RUNNING 36387_47', 'bikenwgrowth RUNNING 36387_48', 'bikenwgrowth RUNNING 36387_49', 'bikenwgrowth RUNNING 36387_50', 'bikenwgrowth RUNNING 36387_51', 'bikenwgrowth RUNNING 36387_52', 'bikenwgrowth RUNNING 36387_53', 'bikenwgrowth RUNNING 36387_54', 'bikenwgrowth RUNNING 36387_55', 'bikenwgrowth RUNNING 36387_57', 'bikenwgrowth RUNNING 36387_58', 'bikenwgrowth RUNNING 36387_17', 'bikenwgrowth RUNNING 36387_18', 'bikenwgrowth RUNNING 36387_19', 'bikenwgrowth RUNNING 36387_22', 'bikenwgrowth RUNNING 36387_23', 'bikenwgrowth RUNNING 36387_24', 'bikenwgrowth RUNNING 36387_25', 'bikenwgrowth RUNNING 36387_26', 'bikenwgrowth RUNNING 36387_27', 'bikenwgrowth RUNNING 36387_28', 'bikenwgrowth RUNNING 36387_29', 'bikenwgrowth RUNNING 36387_30', 'bikenwgrowth RUNNING 36387_31', 'bikenwgrowth RUNNING 36387_32', 'bikenwgrowth RUNNING 36387_33', 'bikenwgrowth RUNNING 36387_36', 'bikenwgrowth RUNNING 36387_37', 'bikenwgrowth RUNNING 36387_38', 'bikenwgrowth RUNNING 36387_39', 'bikenwgrowth RUNNING 36387_40', 'bikenwgrowth RUNNING 36387_41', 'bikenwgrowth RUNNING 36387_42', 'bikenwgrowth RUNNING 36387_43', 'bikenwgrowth RUNNING 36387_44', 'bikenwgrowth RUNNING 36387_45', 'agg RUNNING 35571', 'agg RUNNING 35570', 'agg RUNNING 35569', 'agg RUNNING 35568', 'pen RUNNING 35567', 'pen RUNNING 35566', 'pen RUNNING 35565', 'pen RUNNING 35564', 'pen RUNNING 35563', 'agg RUNNING 35562', '']\n"
     ]
    },
    {
     "data": {
      "text/html": [
       "<tr>\n",
       "                    <th>Job ID</th>\n",
       "                    <th>Number of cores</th>\n",
       "                    <th>Status</th>\n",
       "                    <th>Spark UI</th>\n",
       "                    <th>Spark URL</th>\n",
       "                    </tr>\n",
       "                    <td>36483</td>\n",
       "                    <td>4</td>\n",
       "                    <td>None</td>\n",
       "                    <td><a target=\"_blank\" href=\"http://desktop1.hpc.itu.dk:8080\">http://desktop1.hpc.itu.dk:8080</a></td>\n",
       "                    <td>spark://172.16.16.101:7077</td>\n",
       "                  "
      ],
      "text/plain": [
       "<sparkhpc.slurmsparkjob.SLURMSparkJob at 0x7f6a00317d50>"
      ]
     },
     "execution_count": 8,
     "metadata": {},
     "output_type": "execute_result"
    }
   ],
   "source": [
    "sj"
   ]
  },
  {
   "cell_type": "code",
   "execution_count": 9,
   "metadata": {},
   "outputs": [
    {
     "data": {
      "text/html": [
       "\n",
       "        <div>\n",
       "            <p><b>SparkContext</b></p>\n",
       "\n",
       "            <p><a href=\"http://desktop4.hpc.itu.dk:4040\">Spark UI</a></p>\n",
       "\n",
       "            <dl>\n",
       "              <dt>Version</dt>\n",
       "                <dd><code>v3.0.2</code></dd>\n",
       "              <dt>Master</dt>\n",
       "                <dd><code>spark://172.16.16.101:7077</code></dd>\n",
       "              <dt>AppName</dt>\n",
       "                <dd><code>pyspark-shell</code></dd>\n",
       "            </dl>\n",
       "        </div>\n",
       "        "
      ],
      "text/plain": [
       "<SparkContext master=spark://172.16.16.101:7077 appName=pyspark-shell>"
      ]
     },
     "execution_count": 9,
     "metadata": {},
     "output_type": "execute_result"
    }
   ],
   "source": [
    "job"
   ]
  },
  {
   "cell_type": "code",
   "execution_count": 10,
   "metadata": {},
   "outputs": [
    {
     "data": {
      "text/html": [
       "\n",
       "            <div>\n",
       "                <p><b>SparkSession - in-memory</b></p>\n",
       "                \n",
       "        <div>\n",
       "            <p><b>SparkContext</b></p>\n",
       "\n",
       "            <p><a href=\"http://desktop4.hpc.itu.dk:4040\">Spark UI</a></p>\n",
       "\n",
       "            <dl>\n",
       "              <dt>Version</dt>\n",
       "                <dd><code>v3.0.2</code></dd>\n",
       "              <dt>Master</dt>\n",
       "                <dd><code>spark://172.16.16.101:7077</code></dd>\n",
       "              <dt>AppName</dt>\n",
       "                <dd><code>pyspark-shell</code></dd>\n",
       "            </dl>\n",
       "        </div>\n",
       "        \n",
       "            </div>\n",
       "        "
      ],
      "text/plain": [
       "<pyspark.sql.session.SparkSession at 0x7f69f01bd810>"
      ]
     },
     "execution_count": 10,
     "metadata": {},
     "output_type": "execute_result"
    }
   ],
   "source": [
    "spark"
   ]
  },
  {
   "cell_type": "code",
   "execution_count": 11,
   "metadata": {},
   "outputs": [
    {
     "name": "stdout",
     "output_type": "stream",
     "text": [
      "+----------+----------+----------------+\n",
      "|  AuthorId|AncestorId|NumPapersInField|\n",
      "+----------+----------+----------------+\n",
      "|2632342345|  71924100|               1|\n",
      "|2120530206|  71924100|             468|\n",
      "|2098520860| 127413603|               1|\n",
      "|2124939244|  86803240|              57|\n",
      "|2114367723| 162324750|              52|\n",
      "|2063428679|  15744967|              11|\n",
      "|2665439808| 121332964|               1|\n",
      "|1975701172|  71924100|             130|\n",
      "|1999107301|  71924100|              17|\n",
      "|2147188725|  41008148|               4|\n",
      "|1927734089|  86803240|               7|\n",
      "|2764227198| 121332964|               5|\n",
      "|2501383496| 138885662|               1|\n",
      "|2144881208|  71924100|             306|\n",
      "|2372880476| 192562407|               2|\n",
      "|2098297569| 127413603|              10|\n",
      "|2751618052| 121332964|             133|\n",
      "|1941268798| 185592680|             109|\n",
      "|2706617920| 127413603|               1|\n",
      "|2715597251| 127413603|               1|\n",
      "+----------+----------+----------------+\n",
      "only showing top 20 rows\n",
      "\n"
     ]
    }
   ],
   "source": [
    "author_to_field.show(20)"
   ]
  }
 ],
 "metadata": {
  "kernelspec": {
   "display_name": "Python 3",
   "language": "python",
   "name": "python3"
  },
  "language_info": {
   "codemirror_mode": {
    "name": "ipython",
    "version": 3
   },
   "file_extension": ".py",
   "mimetype": "text/x-python",
   "name": "python",
   "nbconvert_exporter": "python",
   "pygments_lexer": "ipython3",
   "version": "3.7.9"
  }
 },
 "nbformat": 4,
 "nbformat_minor": 4
}
