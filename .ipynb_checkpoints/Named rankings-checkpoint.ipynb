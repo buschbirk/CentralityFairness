{
 "cells": [
  {
   "cell_type": "code",
   "execution_count": 1,
   "id": "f94a5828",
   "metadata": {},
   "outputs": [],
   "source": [
    "import pandas as pd\n",
    "import MAGspark\n",
    "import os"
   ]
  },
  {
   "cell_type": "code",
   "execution_count": 2,
   "id": "316667a2",
   "metadata": {},
   "outputs": [
    {
     "name": "stdout",
     "output_type": "stream",
     "text": [
      "['NAME STATE JOBID', 'piano_ppl RUNNING 45007', 'guitar_ppl RUNNING 45025', 'bass_ppl RUNNING 45026', 'sparkcluster RUNNING 45069', 'train-emb-concatenated-shuffled RUNNING 45190', 'ant_bullet RUNNING 44949', 'ant_bullet RUNNING 44948', 'ant_bullet RUNNING 44947', 'ant_bullet RUNNING 44946', 'ant_bullet RUNNING 44945', 'train-gpu RUNNING 45037', 'train-gpu RUNNING 45188', 'train-gpu RUNNING 45187', 'jupyter RUNNING 45070', '']\n"
     ]
    }
   ],
   "source": [
    "mag, spark = MAGspark.get_mag_with_cluster_connection(jobid=45069, memory_per_executor=14000,\n",
    "                                                      data_folderpath=\"/home/laal/MAG/DATA/\")"
   ]
  },
  {
   "cell_type": "code",
   "execution_count": 3,
   "id": "4a669302",
   "metadata": {},
   "outputs": [],
   "source": [
    "field_mapping = {\n",
    "        \"Economics\": \"/home/laal/MAG/DATA/NETWORKS/SimpleWeightEconomics2020CentralityGendered.csv\", \n",
    "        \"Psychology\": \"/home/laal/MAG/DATA/NETWORKS/SimpleWeightPsychology2020CentralityGendered.csv\",\n",
    "        \"Mathematics\": \"/home/laal/MAG/DATA/NETWORKS/SimpleWeightMathematics2020CentralityGendered.csv\",\n",
    "        \"Chemistry\": \"/home/laal/MAG/DATA/NETWORKS/SimpleWeightChemistry2020CentralityGendered.csv\",\n",
    "    }"
   ]
  },
  {
   "cell_type": "code",
   "execution_count": 5,
   "id": "fca71466",
   "metadata": {},
   "outputs": [],
   "source": [
    "def append_name(field_mapping, base_folder=\"/home/laal/MAG/CentralityFairness/\", top_n=1000):\n",
    "    \n",
    "    authors = mag.getDataframe('Authors')\n",
    "    \n",
    "    for field, fpath in field_mapping.items(): \n",
    "        \n",
    "        print(\"Extracting author names for {}\".format(field))\n",
    "        \n",
    "        df = pd.read_csv(fpath, sep=\"\\t\")\n",
    "        mag.streams['RankingAuthors'] = ('TMP_ranking_authors.txt', ['AuthorId:long'])\n",
    "        \n",
    "        df[['AuthorId']].to_csv(\"/home/laal/MAG/DATA/TMP_ranking_authors.txt\", index=False, sep=\"\\t\", header=False)\n",
    "        \n",
    "        ranking_authors = mag.getDataframe('RankingAuthors')\n",
    "        \n",
    "        query = \"\"\"\n",
    "            SELECT r.*, a.PaperCount, a.PaperFamilyCount, a.CitationCount, a.CreatedDate, a.DisplayName\n",
    "            FROM RankingAuthors r\n",
    "            INNER JOIN Authors a ON r.AuthorId = a.AuthorId\n",
    "        \"\"\"\n",
    "        \n",
    "        ranking_named = mag.query_sql(query)\n",
    "        ranking_named_df = ranking_named.toPandas()\n",
    "        \n",
    "        named_df = pd.merge(df, ranking_named_df, left_on='AuthorId', right_on='AuthorId', how='inner')\n",
    "        \n",
    "        new_path = fpath.split(\".csv\")[0] + 'Named.csv'\n",
    "        named_df.to_csv(new_path, sep=\"\\t\", index=False)\n",
    "        \n",
    "        print(\"Named ranking stored to {}\".format(new_path))\n",
    "        \n",
    "        if not os.path.exists(base_folder + 'TOP{}'.format(top_n)):\n",
    "            os.mkdir(base_folder + 'TOP{}'.format(top_n))\n",
    "        \n",
    "        head = named_df.sort_values(by='PageRank', ascending=False).head(top_n)\n",
    "        \n",
    "        topn_path = base_folder + 'TOP{}/{}_top{}.csv'.format(top_n, field, top_n)\n",
    "        head.to_csv(topn_path, index=False)\n",
    "        \n",
    "        print(\"Top {} stored to {}\\n\\n\".format(top_n, topn_path))"
   ]
  },
  {
   "cell_type": "code",
   "execution_count": 6,
   "id": "b18d6077",
   "metadata": {},
   "outputs": [
    {
     "name": "stdout",
     "output_type": "stream",
     "text": [
      "Extracting author names for Chemistry\n",
      "Named ranking stored to /home/laal/MAG/DATA/NETWORKS/SimpleWeightChemistry2020CentralityGenderedNamed.csv\n",
      "Top 10000 stored to /home/laal/MAG/CentralityFairness/TOP10000/Chemistry_top10000.csv\n",
      "\n",
      "\n"
     ]
    }
   ],
   "source": [
    "append_name(field_mapping, base_folder=\"/home/laal/MAG/CentralityFairness/\", top_n=10000)"
   ]
  }
 ],
 "metadata": {
  "kernelspec": {
   "display_name": "Python 3",
   "language": "python",
   "name": "python3"
  },
  "language_info": {
   "codemirror_mode": {
    "name": "ipython",
    "version": 3
   },
   "file_extension": ".py",
   "mimetype": "text/x-python",
   "name": "python",
   "nbconvert_exporter": "python",
   "pygments_lexer": "ipython3",
   "version": "3.8.8"
  }
 },
 "nbformat": 4,
 "nbformat_minor": 5
}
