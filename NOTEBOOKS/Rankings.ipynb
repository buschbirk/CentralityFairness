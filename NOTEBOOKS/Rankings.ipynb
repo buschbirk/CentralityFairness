{
 "cells": [
  {
   "cell_type": "code",
   "execution_count": 1,
   "metadata": {},
   "outputs": [],
   "source": [
    "from pyspark.sql import SparkSession\n",
    "from pyspark.sql.types import *\n",
    "from MAG import MicrosoftAcademicGraph\n",
    "import os\n",
    "from sparkhpc import sparkjob\n",
    "import findspark\n",
    "from matplotlib import pyplot as plt\n",
    "import seaborn as sns\n",
    "import pandas as pd\n",
    "\n",
    "plt.style.use('ggplot')\n",
    "\n",
    "# set environment variables\n",
    "os.environ[\"SPARK_LOCAL_DIRS\"] = \"/home/laal/MAG/TMP\"\n",
    "os.environ[\"JAVA_HOME\"] = \"/usr/lib/jvm/java-1.8.0-openjdk-1.8.0.242.b08-0.el7_7.x86_64\"\n",
    "os.environ['SPARK_HOME'] = \"/home/laal/MAG/spark-3.0.2-bin-hadoop2.7\""
   ]
  },
  {
   "cell_type": "code",
   "execution_count": 2,
   "metadata": {},
   "outputs": [],
   "source": [
    "def get_cluster_client(jobid, memory_per_executor=16000):\n",
    "    sj = sparkjob.sparkjob(jobid=jobid, memory_per_executor=memory_per_executor)\n",
    "    config_options = {\n",
    "    \"spark.memory.offHeap.enabled\": True,\n",
    "    \"spark.memory.offHeap.size\":\"2g\",\n",
    "    \"spark.sql.adaptive.enabled\": True,\n",
    "    \"spark.sql.adaptive.coalescePartitions.enabled\": True,\n",
    "    \"spark.sql.optimizer.dynamicPartitionPruning.reuseBroadcastOnly\": False,\n",
    "    \"spark.shuffle.io.retryWait\": \"60s\",\n",
    "    \"spark.reducer.maxReqsInFlight\": 5,\n",
    "    \"spark.executor.memoryOverhead\": \"2gb\",\n",
    "    \"spark.driver.memory\": \"20g\",\n",
    "    \"spark.sql.shuffle.partitions\": 300  \n",
    "    }\n",
    "\n",
    "    job = sj.start_spark(extra_conf = config_options)\n",
    "    spark = SparkSession.builder.config(conf=job.getConf()).getOrCreate()\n",
    "    return spark\n",
    "\n",
    "\n",
    "def get_node_client(executor_memory=\"24g\"):\n",
    "    spark = SparkSession \\\n",
    "      .builder \\\n",
    "      .config(\"spark.executor.memory\", executor_memory)\\\n",
    "      .config(\"spark.driver.memory\", \"2g\")\\\n",
    "      .config(\"spark.executor.cores\", 7)\\\n",
    "      .config(\"spark.memory.offHeap.enabled\", True)\\\n",
    "      .config(\"spark.memory.offHeap.size\",\"2g\")\\\n",
    "      .config(\"spark.sql.adaptive.enabled\", True)\\\n",
    "      .config(\"spark.sql.adaptive.coalescePartitions.enabled\", True)\\\n",
    "      .config(\"spark.sql.optimizer.dynamicPartitionPruning.reuseBroadcastOnly\", False)\\\n",
    "      .appName(\"MAG app\") \\\n",
    "      .getOrCreate()\n",
    "    return spark"
   ]
  },
  {
   "cell_type": "code",
   "execution_count": 3,
   "metadata": {},
   "outputs": [
    {
     "name": "stdout",
     "output_type": "stream",
     "text": [
      "['NAME STATE JOBID', 'jupyter RUNNING 39434', 'main_job RUNNING 39530', 'sparkcluster RUNNING 39509', '2.train.15 RUNNING 39149', 'hebbian_weights_submit RUNNING 39475', 'hebbian_weights_submit RUNNING 39428', 'hebbian_weights_submit RUNNING 39407', '2.train.18 RUNNING 39152', '2.train.17 RUNNING 39151', 'train-network-incv RUNNING 39529', 'lil_bobby RUNNING 39525', 'train-network-baseline RUNNING 39489', 'jupyter RUNNING 39514', 'transDe.1 RUNNING 39470', 'transDe.0 RUNNING 39471', 'transDeLW.1 RUNNING 39469', 'transDeLW.0 RUNNING 39468', 'piano RUNNING 39518', 'tmp_ct RUNNING 39401', '']\n"
     ]
    }
   ],
   "source": [
    "spark = get_cluster_client(39509, memory_per_executor=14000)\n",
    "mag = MicrosoftAcademicGraph(spark=spark, data_folderpath=\"/home/laal/MAG/DATA/\")"
   ]
  },
  {
   "cell_type": "code",
   "execution_count": 19,
   "metadata": {},
   "outputs": [],
   "source": [
    "def append_gender_and_macrank(mag, centrality_filename):\n",
    "    \n",
    "    # Assign network info on mag\n",
    "    mag.streams[centrality_filename] = ('NETWORKS/{}.csv'.format(centrality_filename), \n",
    "                                     ['AuthorId:long', 'PageRank:float', 'PageRank05:float', \n",
    "                                      'InDegreeStrength:float', 'InDegree:float', 'OutDegreeStrength:float', \n",
    "                                      'OutDegree:float'])\n",
    "    \n",
    "    cent = mag.getDataframe(centrality_filename)\n",
    "    wtm = mag.getDataframe('WosToMag')\n",
    "    authors = mag.getDataframe('Authors')\n",
    "    \n",
    "    query = \"\"\"\n",
    "        SELECT c.*, \n",
    "        CASE WHEN wtm.Gender IN (0, 1) THEN wtm.Gender ELSE -1 END as Gender,\n",
    "        a.Rank\n",
    "        FROM {} c\n",
    "        LEFT JOIN WosToMag wtm ON c.AuthorId = wtm.MAG \n",
    "        INNER JOIN Authors a ON c.AuthorId = a.AuthorId\n",
    "    \"\"\".format(centrality_filename)\n",
    "    \n",
    "    centrality = mag.query_sql(query)\n",
    "    centrality_df = centrality.toPandas()\n",
    "    \n",
    "    centrality_df.to_csv(\"/home/laal/MAG/DATA/NETWORKS/{}\".format(centrality_filename + 'Gendered.csv'),\n",
    "                         index=False, sep=\"\\t\")"
   ]
  },
  {
   "cell_type": "code",
   "execution_count": 20,
   "metadata": {},
   "outputs": [],
   "source": [
    "append_gender_and_macrank(mag, 'SimpleWeightEconomics2010Centrality')"
   ]
  },
  {
   "cell_type": "code",
   "execution_count": 21,
   "metadata": {},
   "outputs": [],
   "source": [
    "append_gender_and_macrank(mag, 'SimpleWeightMathematics2010Centrality')"
   ]
  },
  {
   "cell_type": "code",
   "execution_count": 22,
   "metadata": {},
   "outputs": [],
   "source": [
    "append_gender_and_macrank(mag, 'SimpleWeightPsychology2010Centrality')"
   ]
  },
  {
   "cell_type": "code",
   "execution_count": 23,
   "metadata": {},
   "outputs": [],
   "source": [
    "append_gender_and_macrank(mag, 'SimpleWeightChemistry2010Centrality')"
   ]
  },
  {
   "cell_type": "code",
   "execution_count": 1,
   "metadata": {},
   "outputs": [
    {
     "data": {
      "text/plain": [
       "'/home/laal/MAG/DATA/NETWORKS/SimpleWeightPsychology2010Nodelist'"
      ]
     },
     "execution_count": 1,
     "metadata": {},
     "output_type": "execute_result"
    }
   ],
   "source": [
    "\".\".join(\"/home/laal/MAG/DATA/NETWORKS/SimpleWeightPsychology2010Nodelist.txt\".split(\".\")[:-1])"
   ]
  }
 ],
 "metadata": {
  "kernelspec": {
   "display_name": "Python 3",
   "language": "python",
   "name": "python3"
  },
  "language_info": {
   "codemirror_mode": {
    "name": "ipython",
    "version": 3
   },
   "file_extension": ".py",
   "mimetype": "text/x-python",
   "name": "python",
   "nbconvert_exporter": "python",
   "pygments_lexer": "ipython3",
   "version": "3.9.2"
  }
 },
 "nbformat": 4,
 "nbformat_minor": 4
}
