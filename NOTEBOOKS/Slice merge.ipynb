{
 "cells": [
  {
   "cell_type": "code",
   "execution_count": 1,
   "id": "c8e0c493",
   "metadata": {},
   "outputs": [],
   "source": [
    "import pandas as pd"
   ]
  },
  {
   "cell_type": "code",
   "execution_count": 7,
   "id": "356ae72d",
   "metadata": {},
   "outputs": [],
   "source": [
    "fields = ['Mathematics', 'Chemistry', 'Psychology', 'Economics']\n",
    "\n",
    "\n",
    "for field in fields:\n",
    "    \n",
    "    slice_results_path = \"/home/laal/MAG/CentralityFairness/EVALUATIONS_OUTPUTS/slices_{}_scored.csv\"\\\n",
    "    .format(field.lower())\n",
    "    \n",
    "    slice_path = \"/home/laal/MAG/CentralityFairness/SLICES/{}2020.csv\".format(field)\n",
    "    \n",
    "    results_df = pd.read_csv(slice_results_path).query(\"centrality == 'PageRank'\")\n",
    "    slice_df = pd.read_csv(slice_path)\n",
    "    \n",
    "    merged = pd.merge(slice_df, results_df, left_on='slice_index', right_on='index')\n",
    "    \n",
    "    merged[['slice_index', 'rND', 'pubDate_lower', 'pubDate_upper', 'women_prop']]\\\n",
    "    .to_csv(\"/home/laal/MAG/CentralityFairness/SLICES/results_{}.csv\".format(field), index=False)\n",
    "    \n"
   ]
  }
 ],
 "metadata": {
  "kernelspec": {
   "display_name": "Python 3",
   "language": "python",
   "name": "python3"
  },
  "language_info": {
   "codemirror_mode": {
    "name": "ipython",
    "version": 3
   },
   "file_extension": ".py",
   "mimetype": "text/x-python",
   "name": "python",
   "nbconvert_exporter": "python",
   "pygments_lexer": "ipython3",
   "version": "3.8.8"
  }
 },
 "nbformat": 4,
 "nbformat_minor": 5
}
