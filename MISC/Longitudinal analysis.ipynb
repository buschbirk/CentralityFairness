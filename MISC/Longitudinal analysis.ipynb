{
 "cells": [
  {
   "cell_type": "markdown",
   "id": "616631c1",
   "metadata": {},
   "source": [
    "## Longitudinal analysis \n",
    "\n",
    "This notebook implements the construction of WACNs and calculation of centrality measures used in the longitudinal analysis described in section 3 of the thesis. "
   ]
  },
  {
   "cell_type": "code",
   "execution_count": 2,
   "id": "arranged-willow",
   "metadata": {
    "collapsed": true
   },
   "outputs": [],
   "source": [
    "from MAG_network import CitationNetwork\n",
    "import os \n",
    "from matplotlib import pyplot as plt\n",
    "import pandas as pd\n",
    "import findspark\n",
    "import MAGspark \n",
    "\n",
    "import warnings\n",
    "warnings.filterwarnings(\"ignore\")\n",
    "\n",
    "from matching import Matcher\n",
    "import sys\n",
    "\n",
    "# set environment variables\n",
    "os.environ[\"SPARK_LOCAL_DIRS\"] = \"/home/laal/MAG/TMP\"\n",
    "os.environ[\"JAVA_HOME\"] = \"/usr/lib/jvm/java-1.8.0-openjdk-1.8.0.242.b08-0.el7_7.x86_64\"\n",
    "os.environ['SPARK_HOME'] = \"/home/laal/MAG/spark-3.0.2-bin-hadoop2.7\""
   ]
  },
  {
   "cell_type": "code",
   "execution_count": 3,
   "id": "identified-institution",
   "metadata": {
    "collapsed": true
   },
   "outputs": [
    {
     "name": "stdout",
     "output_type": "stream",
     "text": [
      "['NAME STATE JOBID', 'train-emb-concatenated-shuffled PENDING 45207', 'baseline-sgd-tweets-shuffled-batch_size-2 PENDING 45210', 'baseline-bilstm-language-en-hi-ro PENDING 45227', 'baseline-bilstm-language-ar-arz PENDING 45226', 'baseline-bilstm-language-en-ne-ro PENDING 45228', 'piano_ppl RUNNING 45007', 'guitar_ppl RUNNING 45025', 'bass_ppl RUNNING 45026', 'sparkcluster RUNNING 45236', 'baseline-sgd-tweets-shuffled-batch_size-1 RUNNING 45209', 'baseline-sgd-tweets-shuffled-batch_size-0 RUNNING 45208', 'ant_bullet RUNNING 45234', 'ant_bullet RUNNING 45220', 'baseline-sgd-tweets-shuffled-units-1 RUNNING 45205', 'baseline-sgd-tweets-shuffled-units-2 RUNNING 45206', 'baseline-sgd-tweets-shuffled-units-0 RUNNING 45204', 'baseline-sgd-tweets-shuffled-architecture-0 RUNNING 45193', 'train-gpu RUNNING 45037', 'jupyter RUNNING 45235', 'train-gpu RUNNING 45188', 'train-gpu RUNNING 45187', 'lil_bobby RUNNING 45229', 'lil_bobby RUNNING 45230', 'lil_bobby RUNNING 45231', 'lil_bobby RUNNING 45232', 'lil_bobby RUNNING 45221', 'lil_bobby RUNNING 45222', 'lil_bobby RUNNING 45223', 'lil_bobby RUNNING 45224', '']\n"
     ]
    }
   ],
   "source": [
    "mag, spark = MAGspark.get_mag_with_cluster_connection(jobid=45236, memory_per_executor=14000,\n",
    "                                                      data_folderpath=\"/home/laal/MAG/DATA/\")"
   ]
  },
  {
   "cell_type": "code",
   "execution_count": 4,
   "id": "exceptional-correlation",
   "metadata": {
    "collapsed": true
   },
   "outputs": [
    {
     "data": {
      "text/html": [
       "\n",
       "            <div>\n",
       "                <p><b>SparkSession - in-memory</b></p>\n",
       "                \n",
       "        <div>\n",
       "            <p><b>SparkContext</b></p>\n",
       "\n",
       "            <p><a href=\"http://desktop16.hpc.itu.dk:4040\">Spark UI</a></p>\n",
       "\n",
       "            <dl>\n",
       "              <dt>Version</dt>\n",
       "                <dd><code>v3.0.2</code></dd>\n",
       "              <dt>Master</dt>\n",
       "                <dd><code>spark://172.16.16.101:7077</code></dd>\n",
       "              <dt>AppName</dt>\n",
       "                <dd><code>pyspark-shell</code></dd>\n",
       "            </dl>\n",
       "        </div>\n",
       "        \n",
       "            </div>\n",
       "        "
      ],
      "text/plain": [
       "<pyspark.sql.session.SparkSession at 0x7f4ede341160>"
      ]
     },
     "execution_count": 4,
     "metadata": {},
     "output_type": "execute_result"
    }
   ],
   "source": [
    "spark"
   ]
  },
  {
   "cell_type": "markdown",
   "id": "victorian-eleven",
   "metadata": {},
   "source": [
    "### Projection of homogeneous slices of  paper references into WACNs"
   ]
  },
  {
   "cell_type": "code",
   "execution_count": 3,
   "id": "celtic-pioneer",
   "metadata": {
    "collapsed": true
   },
   "outputs": [],
   "source": [
    "def build_wacn_slices(fos_id, fos_name, root_data_folder, csv_filepath):\n",
    "    \n",
    "    network = CitationNetwork(mag, fos_id=fos_id, fos_name=fos_name, root_data_folder=root_data_folder)\n",
    "    network.check_references_and_citations(overwrite=False)\n",
    "\n",
    "    print(\"Extracting ordered references\")\n",
    "    \n",
    "    papers = network.mag.getDataframe('Papers')\n",
    "    paper_refs = network.mag.getDataframe(network.paper_references_name)\n",
    "    \n",
    "    if not os.path.exists(csv_filepath):\n",
    "        query = \"\"\"\n",
    "            SELECT pr.PaperId, pr.PaperReferenceId,\n",
    "            p.Date as pubDate, \n",
    "            row_number() over (order by p.Date ASC) rownum\n",
    "            FROM {} pr\n",
    "            INNER JOIN Papers p ON pr.PaperId = p.PaperId\n",
    "            WHERE p.Date is not null and p.Date <= '2020-12-31'\n",
    "        \"\"\".format(network.paper_references_name)\n",
    "\n",
    "        prefs_with_rownum = network.mag.query_sql(query)\n",
    "        prefs_with_rownum.createOrReplaceTempView('PaperReferencesRownum')\n",
    "\n",
    "        num_references = prefs_with_rownum.count()\n",
    "\n",
    "        query = \"\"\"\n",
    "            SELECT \n",
    "            YEAR(pubDate), COUNT(*) as numReferences\n",
    "            FROM PaperReferencesRownum \n",
    "            GROUP BY Year(pubDate)\n",
    "            ORDER BY COUNT(*) DESC\n",
    "        \"\"\"\n",
    "        max_year = network.mag.query_sql(query).toPandas()\n",
    "        max_number = int(max_year.iloc[0].numReferences)\n",
    "\n",
    "        print(\"The year {} had the maximum number of references produced: {}\"\n",
    "             .format(int(max_year.iloc[0]['year(pubDate)']), max_number))\n",
    "\n",
    "        print(\"\\nCreating slices\")\n",
    "\n",
    "        half_maxnum = int(max_number / 2)\n",
    "\n",
    "        slice_records = []\n",
    "\n",
    "        slice_idx = 0\n",
    "\n",
    "        for i in range(1, num_references, half_maxnum):\n",
    "            start_index = i\n",
    "            end_index = i + max_number\n",
    "\n",
    "            if end_index > num_references:\n",
    "                end_index = num_references\n",
    "\n",
    "            records = {\n",
    "                'slice_index': slice_idx,\n",
    "                'start_index': start_index,\n",
    "                'end_index': end_index\n",
    "            }\n",
    "\n",
    "            slice_records.append(records)\n",
    "            slice_idx += 1\n",
    "\n",
    "            if end_index == num_references:\n",
    "                break\n",
    "\n",
    "        slices_df = pd.DataFrame.from_records(slice_records)\n",
    "\n",
    "        all_indexes = list(slices_df.start_index.values) + list(slices_df.end_index.values)\n",
    "        all_indexes_string = \"(\" + \",\".join([str(x) for x in all_indexes]) + \")\"\n",
    "\n",
    "        query = \"\"\"\n",
    "            SELECT * FROM PaperReferencesRownum \n",
    "            WHERE rownum IN {}\n",
    "        \"\"\".format(all_indexes_string)\n",
    "\n",
    "        border_references = network.mag.query_sql(query)\n",
    "        border_references_df = border_references.toPandas()\n",
    "\n",
    "        slice_df = pd.merge(slices_df, border_references_df, how='left', left_on=\"start_index\", right_on=\"rownum\")\n",
    "        slice_df = pd.merge(slice_df, border_references_df, how='left', left_on=\"end_index\", right_on=\"rownum\",\n",
    "                            suffixes=('_lower', '_upper'))\n",
    "\n",
    "        slice_df.to_csv(csv_filepath, index=False)\n",
    "        print(\"{} slices identified. Saved to {}\".format(len(slice_df), csv_filepath))\n",
    "    \n",
    "    slice_df = pd.read_csv(csv_filepath)\n",
    "        \n",
    "    # loop over rows and create networks\n",
    "    for record in slice_df.to_dict('records'):\n",
    "\n",
    "        print(\"Extracting {} slice index {} / {}\".format(fos_name, record['slice_index'], len(slice_df)))\n",
    "\n",
    "        network_name = \"SimpleWeight{}2020Slice{}\".format(fos_name, record['slice_index'])\n",
    "        network.save_author_network(network_name, \n",
    "                                    mindate='1800-01-01', \n",
    "                                    maxdate='2020-12-31',\n",
    "                                    min_rownum=record['start_index'],\n",
    "                                    max_rownum=record['end_index'])"
   ]
  },
  {
   "cell_type": "code",
   "execution_count": 4,
   "id": "voluntary-airfare",
   "metadata": {
    "collapsed": true
   },
   "outputs": [
    {
     "name": "stdout",
     "output_type": "stream",
     "text": [
      "Paper references and citations available for Economics\n",
      "Extracting ordered references\n",
      "Extracting Economics slice index 0 / 30\n",
      "Paper references and citations available for Economics\n",
      "Network SimpleWeightEconomics2020Slice0 saved to /home/laal/MAG/DATA/NETWORKS/SimpleWeightEconomics2020Slice0.txt\n",
      "Extracting Economics slice index 1 / 30\n",
      "Paper references and citations available for Economics\n",
      "Network SimpleWeightEconomics2020Slice1 saved to /home/laal/MAG/DATA/NETWORKS/SimpleWeightEconomics2020Slice1.txt\n",
      "Extracting Economics slice index 2 / 30\n",
      "Paper references and citations available for Economics\n",
      "Network SimpleWeightEconomics2020Slice2 saved to /home/laal/MAG/DATA/NETWORKS/SimpleWeightEconomics2020Slice2.txt\n",
      "Extracting Economics slice index 3 / 30\n",
      "Paper references and citations available for Economics\n",
      "Network SimpleWeightEconomics2020Slice3 saved to /home/laal/MAG/DATA/NETWORKS/SimpleWeightEconomics2020Slice3.txt\n",
      "Extracting Economics slice index 4 / 30\n",
      "Paper references and citations available for Economics\n",
      "Network SimpleWeightEconomics2020Slice4 saved to /home/laal/MAG/DATA/NETWORKS/SimpleWeightEconomics2020Slice4.txt\n",
      "Extracting Economics slice index 5 / 30\n",
      "Paper references and citations available for Economics\n",
      "Network SimpleWeightEconomics2020Slice5 saved to /home/laal/MAG/DATA/NETWORKS/SimpleWeightEconomics2020Slice5.txt\n",
      "Extracting Economics slice index 6 / 30\n",
      "Paper references and citations available for Economics\n",
      "Network SimpleWeightEconomics2020Slice6 saved to /home/laal/MAG/DATA/NETWORKS/SimpleWeightEconomics2020Slice6.txt\n",
      "Extracting Economics slice index 7 / 30\n",
      "Paper references and citations available for Economics\n",
      "Network SimpleWeightEconomics2020Slice7 saved to /home/laal/MAG/DATA/NETWORKS/SimpleWeightEconomics2020Slice7.txt\n",
      "Extracting Economics slice index 8 / 30\n",
      "Paper references and citations available for Economics\n",
      "Network SimpleWeightEconomics2020Slice8 saved to /home/laal/MAG/DATA/NETWORKS/SimpleWeightEconomics2020Slice8.txt\n",
      "Extracting Economics slice index 9 / 30\n",
      "Paper references and citations available for Economics\n",
      "Network SimpleWeightEconomics2020Slice9 saved to /home/laal/MAG/DATA/NETWORKS/SimpleWeightEconomics2020Slice9.txt\n",
      "Extracting Economics slice index 10 / 30\n",
      "Paper references and citations available for Economics\n",
      "Network SimpleWeightEconomics2020Slice10 saved to /home/laal/MAG/DATA/NETWORKS/SimpleWeightEconomics2020Slice10.txt\n",
      "Extracting Economics slice index 11 / 30\n",
      "Paper references and citations available for Economics\n",
      "Network SimpleWeightEconomics2020Slice11 saved to /home/laal/MAG/DATA/NETWORKS/SimpleWeightEconomics2020Slice11.txt\n",
      "Extracting Economics slice index 12 / 30\n",
      "Paper references and citations available for Economics\n",
      "Network SimpleWeightEconomics2020Slice12 saved to /home/laal/MAG/DATA/NETWORKS/SimpleWeightEconomics2020Slice12.txt\n",
      "Extracting Economics slice index 13 / 30\n",
      "Paper references and citations available for Economics\n",
      "Network SimpleWeightEconomics2020Slice13 saved to /home/laal/MAG/DATA/NETWORKS/SimpleWeightEconomics2020Slice13.txt\n",
      "Extracting Economics slice index 14 / 30\n",
      "Paper references and citations available for Economics\n",
      "Network SimpleWeightEconomics2020Slice14 saved to /home/laal/MAG/DATA/NETWORKS/SimpleWeightEconomics2020Slice14.txt\n",
      "Extracting Economics slice index 15 / 30\n",
      "Paper references and citations available for Economics\n",
      "Network SimpleWeightEconomics2020Slice15 saved to /home/laal/MAG/DATA/NETWORKS/SimpleWeightEconomics2020Slice15.txt\n",
      "Extracting Economics slice index 16 / 30\n",
      "Paper references and citations available for Economics\n",
      "Network SimpleWeightEconomics2020Slice16 saved to /home/laal/MAG/DATA/NETWORKS/SimpleWeightEconomics2020Slice16.txt\n",
      "Extracting Economics slice index 17 / 30\n",
      "Paper references and citations available for Economics\n",
      "Network SimpleWeightEconomics2020Slice17 saved to /home/laal/MAG/DATA/NETWORKS/SimpleWeightEconomics2020Slice17.txt\n",
      "Extracting Economics slice index 18 / 30\n",
      "Paper references and citations available for Economics\n",
      "Network SimpleWeightEconomics2020Slice18 saved to /home/laal/MAG/DATA/NETWORKS/SimpleWeightEconomics2020Slice18.txt\n",
      "Extracting Economics slice index 19 / 30\n",
      "Paper references and citations available for Economics\n",
      "Network SimpleWeightEconomics2020Slice19 saved to /home/laal/MAG/DATA/NETWORKS/SimpleWeightEconomics2020Slice19.txt\n",
      "Extracting Economics slice index 20 / 30\n",
      "Paper references and citations available for Economics\n",
      "Network SimpleWeightEconomics2020Slice20 saved to /home/laal/MAG/DATA/NETWORKS/SimpleWeightEconomics2020Slice20.txt\n",
      "Extracting Economics slice index 21 / 30\n",
      "Paper references and citations available for Economics\n",
      "Network SimpleWeightEconomics2020Slice21 saved to /home/laal/MAG/DATA/NETWORKS/SimpleWeightEconomics2020Slice21.txt\n",
      "Extracting Economics slice index 22 / 30\n",
      "Paper references and citations available for Economics\n",
      "Network SimpleWeightEconomics2020Slice22 saved to /home/laal/MAG/DATA/NETWORKS/SimpleWeightEconomics2020Slice22.txt\n",
      "Extracting Economics slice index 23 / 30\n",
      "Paper references and citations available for Economics\n",
      "Network SimpleWeightEconomics2020Slice23 saved to /home/laal/MAG/DATA/NETWORKS/SimpleWeightEconomics2020Slice23.txt\n",
      "Extracting Economics slice index 24 / 30\n",
      "Paper references and citations available for Economics\n",
      "Network SimpleWeightEconomics2020Slice24 saved to /home/laal/MAG/DATA/NETWORKS/SimpleWeightEconomics2020Slice24.txt\n",
      "Extracting Economics slice index 25 / 30\n",
      "Paper references and citations available for Economics\n",
      "Network SimpleWeightEconomics2020Slice25 saved to /home/laal/MAG/DATA/NETWORKS/SimpleWeightEconomics2020Slice25.txt\n",
      "Extracting Economics slice index 26 / 30\n",
      "Paper references and citations available for Economics\n",
      "Network SimpleWeightEconomics2020Slice26 saved to /home/laal/MAG/DATA/NETWORKS/SimpleWeightEconomics2020Slice26.txt\n",
      "Extracting Economics slice index 27 / 30\n",
      "Paper references and citations available for Economics\n",
      "Network SimpleWeightEconomics2020Slice27 saved to /home/laal/MAG/DATA/NETWORKS/SimpleWeightEconomics2020Slice27.txt\n",
      "Extracting Economics slice index 28 / 30\n",
      "Paper references and citations available for Economics\n",
      "Network SimpleWeightEconomics2020Slice28 saved to /home/laal/MAG/DATA/NETWORKS/SimpleWeightEconomics2020Slice28.txt\n",
      "Extracting Economics slice index 29 / 30\n",
      "Paper references and citations available for Economics\n",
      "Network SimpleWeightEconomics2020Slice29 saved to /home/laal/MAG/DATA/NETWORKS/SimpleWeightEconomics2020Slice29.txt\n"
     ]
    }
   ],
   "source": [
    "build_wacn_slices(162324750, 'Economics', root_data_folder=\"/home/laal/MAG/DATA\", \n",
    "                  csv_filepath=\"/home/laal/MAG/CentralityFairness/SLICES/Economics2020.csv\")"
   ]
  },
  {
   "cell_type": "markdown",
   "id": "d01b880c",
   "metadata": {},
   "source": [
    "## Computing centrality measures on longitudinal WACNs"
   ]
  },
  {
   "cell_type": "code",
   "execution_count": null,
   "id": "b9820719",
   "metadata": {
    "collapsed": true
   },
   "outputs": [],
   "source": [
    "def build_wacn_graphs(fos_id, fos_name, root_data_folder, csv_filepath):\n",
    "    \n",
    "    network = CitationNetwork(mag, fos_id=fos_id, fos_name=fos_name, root_data_folder=root_data_folder)\n",
    "    network.check_references_and_citations(overwrite=False)\n",
    "\n",
    "    print(\"Extracting ordered references\")\n",
    "    \n",
    "    # papers = network.mag.getDataframe('Papers')\n",
    "    # paper_refs = network.mag.getDataframe(network.paper_references_name)\n",
    "    \n",
    "    if not os.path.exists(csv_filepath):\n",
    "        return\n",
    "    \n",
    "    slice_df = pd.read_csv(csv_filepath)\n",
    "        \n",
    "    # loop over rows and create networks\n",
    "    for record in slice_df.to_dict('records'):\n",
    "        \n",
    "        if os.path.exists(\"/home/laal/MAG/DATA/NETWORKS/SimpleWeight{}2020Slice{}Centrality.csv\".\n",
    "                         format(fos_name, record['slice_index'])):\n",
    "            continue\n",
    "        \n",
    "        print(\"Extracting {} slice index {} / {}\".format(fos_name, record['slice_index'], len(slice_df)))\n",
    "\n",
    "        network_name = \"SimpleWeight{}2020Slice{}\".format(fos_name, record['slice_index'])\n",
    "        \n",
    "        network.load_author_author_network(network_name)\n",
    "        graph, node_mapping, eweight = network.build_graph()\n",
    "        df = network.compute_centralities(graph, node_mapping, eweight, pr_damping=0.85)\n",
    "        df['sliceid'] = record['slice_index']\n",
    "        \n",
    "        if record['slice_index'] == 0:\n",
    "            df.to_csv(\"/home/laal/MAG/DATA/NETWORKS/SimpleWeight{}2020SliceMasterCentrality.csv\"\n",
    "                      .format(fos_name), index=False, header=False, sep=\"\\t\")\n",
    "        else:\n",
    "            df.to_csv(\"/home/laal/MAG/DATA/NETWORKS/SimpleWeight{}2020SliceMasterCentrality.csv\"\n",
    "                      .format(fos_name), index=False, header=False, mode='a', sep=\"\\t\")        \n",
    "            "
   ]
  },
  {
   "cell_type": "code",
   "execution_count": null,
   "id": "b152d142",
   "metadata": {},
   "outputs": [],
   "source": [
    "build_wacn_graphs(185592680, 'Chemistry', root_data_folder=\"/home/laal/MAG/DATA\", \n",
    "                  csv_filepath=\"/home/laal/MAG/CentralityFairness/SLICES/Chemistry2020.csv\")"
   ]
  }
 ],
 "metadata": {
  "kernelspec": {
   "display_name": "Python 3",
   "language": "python",
   "name": "python3"
  },
  "language_info": {
   "codemirror_mode": {
    "name": "ipython",
    "version": 3
   },
   "file_extension": ".py",
   "mimetype": "text/x-python",
   "name": "python",
   "nbconvert_exporter": "python",
   "pygments_lexer": "ipython3",
   "version": "3.8.8"
  }
 },
 "nbformat": 4,
 "nbformat_minor": 5
}
