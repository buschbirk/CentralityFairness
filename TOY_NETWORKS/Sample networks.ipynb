{
 "cells": [
  {
   "cell_type": "markdown",
   "id": "contemporary-world",
   "metadata": {},
   "source": [
    "## Sample networks\n",
    "\n",
    "This notebook contains code to generate random networks to simulate real-world citation networks. \n",
    "Nodes will have gender attributes.   "
   ]
  },
  {
   "cell_type": "code",
   "execution_count": 1,
   "id": "charitable-motor",
   "metadata": {},
   "outputs": [],
   "source": [
    "import networkx as nx\n",
    "import pandas as pd\n",
    "import pickle\n",
    "import random"
   ]
  },
  {
   "cell_type": "code",
   "execution_count": 2,
   "id": "metallic-polymer",
   "metadata": {},
   "outputs": [],
   "source": [
    "gender_df = pd.read_csv(\"author2mag_gender.csv\", header=None, names=['wos', 'mag', 'gender'])"
   ]
  },
  {
   "cell_type": "code",
   "execution_count": 3,
   "id": "unable-richmond",
   "metadata": {},
   "outputs": [],
   "source": [
    "# filter out unknown gender\n",
    "gender_df = gender_df[(gender_df.gender != \"-1\") & (gender_df.gender != \"None\") & (gender_df.gender != \"-2\")]"
   ]
  },
  {
   "cell_type": "code",
   "execution_count": 4,
   "id": "structured-aside",
   "metadata": {},
   "outputs": [],
   "source": [
    "def assign_attributes(G, seed=42):\n",
    "    \n",
    "    nodes = list(G.nodes())\n",
    "    n = len(nodes)\n",
    "    \n",
    "    sample = gender_df.sample(n, random_state=seed)\n",
    "    sample_nodes = sample['mag'].values\n",
    "    sample_genders = {sample_nodes[i]: {'gender': int(sample.iloc[i].gender)} for i in range(len(nodes))}\n",
    "    \n",
    "    \n",
    "    node_mapping = {nodes[i]: sample_nodes[i] for i in range(len(nodes))}\n",
    "    nx.relabel_nodes(G, node_mapping, copy=False)\n",
    "    \n",
    "    nx.set_node_attributes(G, sample_genders)\n",
    "    \n",
    "    return G\n",
    "    \n",
    "    \n",
    "def generate_smallworld(n, k=10, p=0.3, seed=42):\n",
    "    G = nx.watts_strogatz_graph(n=n, k=k, p=p, seed=seed)\n",
    "    \n",
    "    edges = list(G.edges())\n",
    "    # Swap the direction of half edges to diffuse degree\n",
    "    di_edges = [(edges[i][0], edges[i][1]) if i % 2 == 0 else (edges[i][1], edges[i][0]) for i in range(len(edges))]\n",
    "    G = nx.DiGraph()\n",
    "    G.add_edges_from(di_edges)\n",
    "    \n",
    "    G = assign_attributes(G, seed=seed)\n",
    "    \n",
    "    return G\n",
    "\n",
    "\n",
    "def generate_ba_graph(n, m, seed=42):\n",
    "    G = nx.barabasi_albert_graph(n=n, m=m, seed=seed)\n",
    "    \n",
    "    \n",
    "    edges = list(G.edges())\n",
    "    # Swap the direction of half edges to diffuse degree\n",
    "    di_edges = [(edges[i][0], edges[i][1]) if i % 2 == 0 else (edges[i][1], edges[i][0]) for i in range(len(edges))]\n",
    "    G = nx.DiGraph()\n",
    "    G.add_edges_from(di_edges)\n",
    "    \n",
    "    G = assign_attributes(G, seed=seed)\n",
    "    \n",
    "    return G\n",
    "\n",
    "def generate_er_graph(n, p, seed=42):\n",
    "    G = nx.gnp_random_graph(n, p, seed=seed, directed=True)\n",
    "    G = assign_attributes(G, seed=seed)\n",
    "    return G"
   ]
  },
  {
   "cell_type": "code",
   "execution_count": 5,
   "id": "fancy-submission",
   "metadata": {},
   "outputs": [],
   "source": [
    "n = 500\n",
    "G_smallworld = generate_smallworld(n, k=4, p=0.2, seed=42)\n",
    "G_scalefree = generate_ba_graph(n, m=4, seed=43)\n",
    "G_random = generate_er_graph(n, p=0.05, seed=44)"
   ]
  },
  {
   "cell_type": "code",
   "execution_count": 6,
   "id": "apart-painting",
   "metadata": {},
   "outputs": [],
   "source": [
    "def save_graph_edgelist(G, filename):\n",
    "    \n",
    "    with open(filename + '.edgelist', 'w') as file:\n",
    "        file.write(\"{} {}\\n\".format(G.number_of_nodes(), G.number_of_edges()))\n",
    "        for s, t in G.edges():\n",
    "            file.write(\"{} {} {}\\n\".format(s, t, random.randint(1, 30)))\n",
    "    \n",
    "    with open(filename + '.nodes', 'w') as file:\n",
    "        for node, data in G.nodes(data=True):\n",
    "            file.write(\"{} {}\\n\".format(node, data['gender']))"
   ]
  },
  {
   "cell_type": "code",
   "execution_count": 67,
   "id": "artificial-timing",
   "metadata": {},
   "outputs": [],
   "source": [
    "save_graph_edgelist(G_smallworld, \"smallworld_10k\")\n",
    "save_graph_edgelist(G_scalefree, \"scalefree_10k\")\n",
    "save_graph_edgelist(G_random, \"randomgraph_10k\")"
   ]
  }
 ],
 "metadata": {
  "kernelspec": {
   "display_name": "Python 3",
   "language": "python",
   "name": "python3"
  },
  "language_info": {
   "codemirror_mode": {
    "name": "ipython",
    "version": 3
   },
   "file_extension": ".py",
   "mimetype": "text/x-python",
   "name": "python",
   "nbconvert_exporter": "python",
   "pygments_lexer": "ipython3",
   "version": "3.8.5"
  }
 },
 "nbformat": 4,
 "nbformat_minor": 5
}
