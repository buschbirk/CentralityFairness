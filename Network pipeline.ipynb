{
 "cells": [
  {
   "cell_type": "code",
   "execution_count": 1,
   "id": "arranged-willow",
   "metadata": {},
   "outputs": [],
   "source": [
    "from MAG_network import CitationNetwork\n",
    "import os \n",
    "from matplotlib import pyplot as plt\n",
    "import pandas as pd\n",
    "import findspark\n",
    "import MAGspark \n",
    "\n",
    "# set environment variables\n",
    "os.environ[\"SPARK_LOCAL_DIRS\"] = \"/home/laal/MAG/TMP\"\n",
    "os.environ[\"JAVA_HOME\"] = \"/usr/lib/jvm/java-1.8.0-openjdk-1.8.0.242.b08-0.el7_7.x86_64\"\n",
    "os.environ['SPARK_HOME'] = \"/home/laal/MAG/spark-3.0.2-bin-hadoop2.7\""
   ]
  },
  {
   "cell_type": "code",
   "execution_count": 2,
   "id": "identified-institution",
   "metadata": {},
   "outputs": [
    {
     "name": "stdout",
     "output_type": "stream",
     "text": [
      "['NAME STATE JOBID', 'ETL_wikidata_dump RUNNING 40170', 'ETL_wikidata_dump RUNNING 40201', 'generatedata RUNNING 40250', 'sparkcluster RUNNING 40252', '2.train.nmt.5 RUNNING 40188', '2.train.nmt.4 RUNNING 40187', 'muzero-gpu-job RUNNING 39988', 'train-network-incv RUNNING 40251', 'jupyter RUNNING 40253', '2.train.nmt.7 RUNNING 40190', '2.train.nmt.6 RUNNING 40189', '2.train.nmt.0 RUNNING 40183', '2.train.nmt.1 RUNNING 40184', '2.train.nmt.9 RUNNING 40192', '2.train.nmt.8 RUNNING 40191', '2.train.nmt.2 RUNNING 40185', '2.train.nmt.3 RUNNING 40186', '']\n"
     ]
    }
   ],
   "source": [
    "mag, spark = MAGspark.get_mag_with_cluster_connection(jobid=40252, memory_per_executor=14000,\n",
    "                                                      data_folderpath=\"/home/laal/MAG/DATA/\")"
   ]
  },
  {
   "cell_type": "code",
   "execution_count": null,
   "id": "exceptional-correlation",
   "metadata": {},
   "outputs": [],
   "source": []
  },
  {
   "cell_type": "code",
   "execution_count": 3,
   "id": "black-dairy",
   "metadata": {},
   "outputs": [],
   "source": [
    "sociology = CitationNetwork(mag, fos_id=144024400, fos_name=\"Sociology\", root_data_folder=\"/home/laal/MAG/DATA\")"
   ]
  },
  {
   "cell_type": "code",
   "execution_count": 4,
   "id": "starting-objective",
   "metadata": {},
   "outputs": [
    {
     "name": "stdout",
     "output_type": "stream",
     "text": [
      "Paper references and citations available for Sociology\n"
     ]
    }
   ],
   "source": [
    "sociology.check_references_and_citations()"
   ]
  },
  {
   "cell_type": "code",
   "execution_count": 5,
   "id": "cloudy-copying",
   "metadata": {},
   "outputs": [
    {
     "name": "stdout",
     "output_type": "stream",
     "text": [
      "Network exists at /home/laal/MAG/DATA/NETWORKS/SimpleWeightSociology2010.txt. Use overwrite to replace\n"
     ]
    }
   ],
   "source": [
    "sociology.save_author_network(\"SimpleWeightSociology2010\", mindate='1800-01-01', maxdate='2010-12-31')\n",
    "network_df = sociology.load_author_author_network(\"SimpleWeightSociology2010\")"
   ]
  },
  {
   "cell_type": "code",
   "execution_count": 6,
   "id": "southern-arrow",
   "metadata": {},
   "outputs": [
    {
     "name": "stdout",
     "output_type": "stream",
     "text": [
      "The network has 6233863 edges\n",
      "The network has 635826 nodes\n"
     ]
    }
   ],
   "source": [
    "network_df, nodelist = sociology.nodelist_and_edge_count()"
   ]
  },
  {
   "cell_type": "code",
   "execution_count": 7,
   "id": "stopped-exposure",
   "metadata": {},
   "outputs": [
    {
     "name": "stdout",
     "output_type": "stream",
     "text": [
      "Initiating PageRank\n",
      "Initiating degree measures\n",
      "Finished centrality computations\n",
      "Centrality CSV saved to /home/laal/MAG/DATA/NETWORKS/SimpleWeightSociology2010Centrality.csv\n",
      "Gendered centrality measures saved to /home/laal/MAG/DATA/NETWORKS/SimpleWeightSociology2010CentralityGendered.csv\n"
     ]
    }
   ],
   "source": [
    "graph, node_mapping, eweight = sociology.build_graph()\n",
    "sociology.compute_centralities(graph, node_mapping, eweight, \"\", pr_damping=0.85)\n",
    "sociology.append_gender_and_macrank()"
   ]
  },
  {
   "cell_type": "code",
   "execution_count": 1,
   "id": "rough-screw",
   "metadata": {},
   "outputs": [
    {
     "ename": "NameError",
     "evalue": "name 'spark' is not defined",
     "output_type": "error",
     "traceback": [
      "\u001b[0;31m---------------------------------------------------------------------------\u001b[0m",
      "\u001b[0;31mNameError\u001b[0m                                 Traceback (most recent call last)",
      "\u001b[0;32m<ipython-input-1-5c6b4d5d9db0>\u001b[0m in \u001b[0;36m<module>\u001b[0;34m\u001b[0m\n\u001b[0;32m----> 1\u001b[0;31m \u001b[0mspark\u001b[0m\u001b[0;34m.\u001b[0m\u001b[0mstop\u001b[0m\u001b[0;34m(\u001b[0m\u001b[0;34m)\u001b[0m\u001b[0;34m\u001b[0m\u001b[0;34m\u001b[0m\u001b[0m\n\u001b[0m",
      "\u001b[0;31mNameError\u001b[0m: name 'spark' is not defined"
     ]
    }
   ],
   "source": [
    "spark.stop()"
   ]
  },
  {
   "cell_type": "markdown",
   "id": "victorian-eleven",
   "metadata": {},
   "source": [
    "### Rerun networks"
   ]
  },
  {
   "cell_type": "code",
   "execution_count": 3,
   "id": "centered-amount",
   "metadata": {},
   "outputs": [
    {
     "name": "stdout",
     "output_type": "stream",
     "text": [
      "Starting network extraction for Chemistry\n",
      "Paper references and citations available for Chemistry\n",
      "Network exists at /home/laal/MAG/DATA/NETWORKS/SimpleWeightChemistry2020.txt. Use overwrite to replace\n",
      "The network has 1361642334 edges\n",
      "The network has 15845298 nodes\n",
      "Gender distribution: -1    11910223\n",
      " 1     2580695\n",
      " 0     1354380\n",
      "Name: Gender, dtype: int64\n",
      "\n",
      "----------------------------\n",
      "\n",
      "Starting network extraction for Psychology\n",
      "Paper references and citations available for Psychology\n",
      "Network exists at /home/laal/MAG/DATA/NETWORKS/SimpleWeightPsychology2020.txt. Use overwrite to replace\n",
      "The network has 419209380 edges\n",
      "The network has 4088513 nodes\n",
      "Gender distribution: -1    2464853\n",
      " 0     814668\n",
      " 1     808992\n",
      "Name: Gender, dtype: int64\n",
      "\n",
      "----------------------------\n",
      "\n",
      "Starting network extraction for Mathematics\n",
      "Paper references and citations available for Mathematics\n",
      "Network exists at /home/laal/MAG/DATA/NETWORKS/SimpleWeightMathematics2020.txt. Use overwrite to replace\n",
      "The network has 94475729 edges\n",
      "The network has 3448598 nodes\n",
      "Gender distribution: -1    2479361\n",
      " 1     753573\n",
      " 0     215664\n",
      "Name: Gender, dtype: int64\n",
      "\n",
      "----------------------------\n",
      "\n",
      "Starting network extraction for Economics\n",
      "Paper references and citations available for Economics\n",
      "Network exists at /home/laal/MAG/DATA/NETWORKS/SimpleWeightEconomics2020.txt. Use overwrite to replace\n",
      "The network has 43178968 edges\n",
      "The network has 1106221 nodes\n",
      "Gender distribution: -1    690485\n",
      " 1    304369\n",
      " 0    111367\n",
      "Name: Gender, dtype: int64\n",
      "\n",
      "----------------------------\n",
      "\n"
     ]
    }
   ],
   "source": [
    "id_names = [(185592680, 'Chemistry'), (15744967, 'Psychology'), (33923547, 'Mathematics'), (162324750, 'Economics')]\n",
    "\n",
    "for fos_id, name in id_names:\n",
    "    print(\"Starting network extraction for {}\".format(name))\n",
    "    \n",
    "    network = CitationNetwork(mag, fos_id=fos_id, fos_name=name, root_data_folder=\"/home/laal/MAG/DATA\")\n",
    "    network.check_references_and_citations()\n",
    "    network.save_author_network(\"SimpleWeight{}2020\".format(name), mindate='1800-01-01', maxdate='2020-12-31')\n",
    "    network.load_author_author_network(\"SimpleWeight{}2020\".format(name))\n",
    "    network.nodelist_and_edge_count()    \n",
    "    print(\"\\n----------------------------\\n\")"
   ]
  },
  {
   "cell_type": "code",
   "execution_count": 4,
   "id": "constant-study",
   "metadata": {},
   "outputs": [
    {
     "name": "stdout",
     "output_type": "stream",
     "text": [
      "Starting network extraction for Chemistry\n",
      "Paper references and citations available for Chemistry\n",
      "Network exists at /home/laal/MAG/DATA/NETWORKS/SimpleWeightChemistry2020.txt. Use overwrite to replace\n",
      "Gendered centrality measures saved to /home/laal/MAG/DATA/NETWORKS/SimpleWeightChemistry2020CentralityGendered.csv\n",
      "\n",
      "----------------------------\n",
      "\n"
     ]
    }
   ],
   "source": [
    "id_names = [(15744967, 'Psychology'), (33923547, 'Mathematics'), (162324750, 'Economics')]\n",
    "id_names = [(185592680, 'Chemistry')]\n",
    "\n",
    "for fos_id, name in id_names:\n",
    "    print(\"Starting network extraction for {}\".format(name))\n",
    "    \n",
    "    network = CitationNetwork(mag, fos_id=fos_id, fos_name=name, root_data_folder=\"/home/laal/MAG/DATA\")\n",
    "    network.check_references_and_citations()\n",
    "    network.save_author_network(\"SimpleWeight{}2020\".format(name), mindate='1800-01-01', maxdate='2020-12-31')\n",
    "    network.load_author_author_network(\"SimpleWeight{}2020\".format(name))\n",
    "    \n",
    "    # graph, node_mapping, eweight = network.build_graph()\n",
    "    # network.compute_centralities(graph, node_mapping, eweight, \"\", pr_damping=0.85)\n",
    "    network.append_gender_and_macrank()\n",
    "    \n",
    "    # network.nodelist_and_edge_count()    \n",
    "    print(\"\\n----------------------------\\n\")"
   ]
  }
 ],
 "metadata": {
  "kernelspec": {
   "display_name": "Python 3",
   "language": "python",
   "name": "python3"
  },
  "language_info": {
   "codemirror_mode": {
    "name": "ipython",
    "version": 3
   },
   "file_extension": ".py",
   "mimetype": "text/x-python",
   "name": "python",
   "nbconvert_exporter": "python",
   "pygments_lexer": "ipython3",
   "version": "3.9.2"
  }
 },
 "nbformat": 4,
 "nbformat_minor": 5
}
