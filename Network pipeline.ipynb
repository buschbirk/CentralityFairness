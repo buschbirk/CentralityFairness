{
 "cells": [
  {
   "cell_type": "code",
   "execution_count": 1,
   "id": "arranged-willow",
   "metadata": {},
   "outputs": [],
   "source": [
    "from MAG_network import CitationNetwork\n",
    "import os \n",
    "from matplotlib import pyplot as plt\n",
    "import pandas as pd\n",
    "import findspark\n",
    "import MAGspark \n",
    "\n",
    "# set environment variables\n",
    "os.environ[\"SPARK_LOCAL_DIRS\"] = \"/home/laal/MAG/TMP\"\n",
    "os.environ[\"JAVA_HOME\"] = \"/usr/lib/jvm/java-1.8.0-openjdk-1.8.0.242.b08-0.el7_7.x86_64\"\n",
    "os.environ['SPARK_HOME'] = \"/home/laal/MAG/spark-3.0.2-bin-hadoop2.7\""
   ]
  },
  {
   "cell_type": "code",
   "execution_count": 2,
   "id": "identified-institution",
   "metadata": {},
   "outputs": [
    {
     "name": "stdout",
     "output_type": "stream",
     "text": [
      "['NAME STATE JOBID', 'covid19tweets PENDING 39636', 'covid19tweets PENDING 39637', 'main_job RUNNING 39791', 'hyperopt RUNNING 39676', 'sparkcluster RUNNING 39715', 'hyperopt RUNNING 39675', 'hyperopt RUNNING 39677', 'hyperopt RUNNING 39678', 'jupyter RUNNING 39764', 'hyperopt RUNNING 39673', 'hyperopt RUNNING 39674', 'piano RUNNING 39738', 'resume6_ccmfotw_roberta_base_fp16_1M RUNNING 39633', 'resume7_ccs_roberta_base_fp16_1M RUNNING 39634', 'resume5_cc13_roberta_base_fp16_1M RUNNING 39632', 'tmp_with_c_ct RUNNING 39712', 'tmp_with_c_ct RUNNING 39711', 'tmp_with_c_ct RUNNING 39710', 'tmp_ct RUNNING 39707', 'tmp_ct RUNNING 39708', '']\n"
     ]
    }
   ],
   "source": [
    "mag, spark = MAGspark.get_mag_with_cluster_connection(jobid=39715, memory_per_executor=14000,\n",
    "                                                      data_folderpath=\"/home/laal/MAG/DATA/\")"
   ]
  },
  {
   "cell_type": "code",
   "execution_count": 3,
   "id": "black-dairy",
   "metadata": {},
   "outputs": [],
   "source": [
    "sociology = CitationNetwork(mag, fos_id=144024400, fos_name=\"Sociology\", root_data_folder=\"/home/laal/MAG/DATA\")"
   ]
  },
  {
   "cell_type": "code",
   "execution_count": 4,
   "id": "starting-objective",
   "metadata": {},
   "outputs": [
    {
     "name": "stdout",
     "output_type": "stream",
     "text": [
      "Paper references and citations available for Sociology\n"
     ]
    }
   ],
   "source": [
    "sociology.check_references_and_citations()"
   ]
  },
  {
   "cell_type": "code",
   "execution_count": 5,
   "id": "cloudy-copying",
   "metadata": {},
   "outputs": [
    {
     "name": "stdout",
     "output_type": "stream",
     "text": [
      "Network exists at /home/laal/MAG/DATA/NETWORKS/SimpleWeightSociology2010.txt. Use overwrite to replace\n"
     ]
    }
   ],
   "source": [
    "sociology.save_author_network(\"SimpleWeightSociology2010\", mindate='1800-01-01', maxdate='2010-12-31')\n",
    "network_df = sociology.load_author_author_network(\"SimpleWeightSociology2010\")"
   ]
  },
  {
   "cell_type": "code",
   "execution_count": 6,
   "id": "southern-arrow",
   "metadata": {},
   "outputs": [
    {
     "name": "stdout",
     "output_type": "stream",
     "text": [
      "The network has 6233863 edges\n",
      "The network has 635826 nodes\n"
     ]
    }
   ],
   "source": [
    "network_df, nodelist = sociology.nodelist_and_edge_count()"
   ]
  },
  {
   "cell_type": "code",
   "execution_count": 7,
   "id": "stopped-exposure",
   "metadata": {},
   "outputs": [
    {
     "name": "stdout",
     "output_type": "stream",
     "text": [
      "Initiating PageRank\n",
      "Initiating degree measures\n",
      "Finished centrality computations\n",
      "Centrality CSV saved to /home/laal/MAG/DATA/NETWORKS/SimpleWeightSociology2010Centrality.csv\n",
      "Gendered centrality measures saved to /home/laal/MAG/DATA/NETWORKS/SimpleWeightSociology2010CentralityGendered.csv\n"
     ]
    }
   ],
   "source": [
    "graph, node_mapping, eweight = sociology.build_graph()\n",
    "sociology.compute_centralities(graph, node_mapping, eweight, \"\", pr_damping=0.85)\n",
    "sociology.append_gender_and_macrank()"
   ]
  },
  {
   "cell_type": "code",
   "execution_count": 8,
   "id": "rough-screw",
   "metadata": {},
   "outputs": [],
   "source": [
    "spark.stop()"
   ]
  }
 ],
 "metadata": {
  "kernelspec": {
   "display_name": "Python 3",
   "language": "python",
   "name": "python3"
  },
  "language_info": {
   "codemirror_mode": {
    "name": "ipython",
    "version": 3
   },
   "file_extension": ".py",
   "mimetype": "text/x-python",
   "name": "python",
   "nbconvert_exporter": "python",
   "pygments_lexer": "ipython3",
   "version": "3.9.2"
  }
 },
 "nbformat": 4,
 "nbformat_minor": 5
}
